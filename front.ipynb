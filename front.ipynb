{
 "cells": [
  {
   "cell_type": "code",
   "execution_count": 7,
   "metadata": {},
   "outputs": [],
   "source": [
    "from tkinter import *\n",
    "import os\n",
    "import subprocess\n",
    "\n",
    "def test_sp():\n",
    "    mo=Toplevel(root)\n",
    "    mo.configure(background=\"#FFFFFF\")\n",
    "    mo.title(\"Spiral Test\")\n",
    "    \n",
    "    upload=Button(mo,text=\"upload image\",height=2,width=30,bg = \"#B3D8DB\",font = (\"TIMES NEW ROMAN\",15))\n",
    "    upload.place(x =100,y=50)\n",
    "\n",
    "    mo.geometry(\"500x500\")\n",
    "    mo.mainloop()\n",
    "\n",
    "\n",
    "\n",
    "def test_bal():\n",
    "    t=Toplevel(root)\n",
    "    t.configure(background=\"#FFFFFF\")\n",
    "    t.title(\"Wave Test\")\n",
    "   \n",
    "    openc=Button(t,text=\"upload image\",height=2,width=30,bg = \"#b3d8db\",font = (\"TIMES NEW ROMAN\",15))\n",
    "    openc.place(x=100 , y=50)\n",
    "\n",
    "\n",
    "    t.geometry(\"500x500\")\n",
    "    t.mainloop()\n",
    "    \n",
    "def test_face():\n",
    "    t=Toplevel(root)\n",
    "    t.configure(background=\"#FFFFFF\")\n",
    "    t.title(\"facial regidity\")\n",
    "   \n",
    "    openc=Button(t,text=\"Open Camera\",height=2,width=30,bg = \"#b3d8db\",font = (\"TIMES NEW ROMAN\",15))\n",
    "    openc.place(x=100 , y=50)\n",
    "\n",
    "\n",
    "    t.geometry(\"500x500\")\n",
    "    t.mainloop()\n",
    "\n",
    "def main_screen():\n",
    "    global root\n",
    "    root=Tk()\n",
    "    root.geometry(\"1500x1500\")\n",
    "    root.configure(background=\"#ECECEC\")\n",
    "    root.title(\"Horus\")\n",
    "    title = Label(root, text=\"Parkinson Detector\" ,bg=\"#C4D6D8\",width=400,height=3,font = (\"TIMES NEW ROMAN\",20))\n",
    "    title.pack()\n",
    "    \n",
    "    loginuser=Button(root,text=\"Test spiral\",height=2,width=30,bg = \"#B3D8DB\",font = (\"TIMES NEW ROMAN\",15),command=test_sp)\n",
    "    loginuser.place(x=750 , y=250)\n",
    "    \n",
    "    loginowner=Button(root,text=\"Test wave\",height=2,width=30,bg = \"#B3D8DB\",font = (\"TIMES NEW ROMAN\",15),command=test_bal)\n",
    "    loginowner.place(x=750, y=150)\n",
    "    \n",
    "    face=Button(root,text=\"facial regidity\",height=2,width=30,bg = \"#B3D8DB\",font = (\"TIMES NEW ROMAN\",15),command=test_face)\n",
    "    face.place(x=750, y=350)\n",
    "\n",
    "    root.mainloop()\n",
    "\n",
    "main_screen()\n"
   ]
  },
  {
   "cell_type": "code",
   "execution_count": null,
   "metadata": {},
   "outputs": [],
   "source": []
  },
  {
   "cell_type": "code",
   "execution_count": null,
   "metadata": {},
   "outputs": [],
   "source": []
  }
 ],
 "metadata": {
  "kernelspec": {
   "display_name": "Python 3",
   "language": "python",
   "name": "python3"
  },
  "language_info": {
   "codemirror_mode": {
    "name": "ipython",
    "version": 3
   },
   "file_extension": ".py",
   "mimetype": "text/x-python",
   "name": "python",
   "nbconvert_exporter": "python",
   "pygments_lexer": "ipython3",
   "version": "3.7.4"
  }
 },
 "nbformat": 4,
 "nbformat_minor": 2
}
